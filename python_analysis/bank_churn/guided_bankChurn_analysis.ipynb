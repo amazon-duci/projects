{
 "cells": [
  {
   "cell_type": "markdown",
   "id": "2496265e-cd54-47d5-898b-c0103e7c2ae2",
   "metadata": {},
   "source": [
    "## Import Libraries"
   ]
  },
  {
   "cell_type": "code",
   "execution_count": 1,
   "id": "73d2977d-ed3a-461f-b503-9d428d47a304",
   "metadata": {},
   "outputs": [],
   "source": [
    "import pandas as pd\n",
    "import numpy as np\n",
    "import matplotlib.pyplot as plt\n",
    "import seaborn as sns"
   ]
  },
  {
   "cell_type": "markdown",
   "id": "bf466c82-0ca5-4240-8665-4fb03f49fd0f",
   "metadata": {},
   "source": [
    "## Load Bank Churn data"
   ]
  },
  {
   "cell_type": "code",
   "execution_count": 2,
   "id": "8d2218e8-a403-4b68-908c-9f6f54d04e76",
   "metadata": {},
   "outputs": [],
   "source": [
    "path = 'Bank_Churn_Messy.xlsx'\n",
    "data = pd.read_excel(path, sheet_name = None) \n",
    "# sheet_name  =  None, to import all sheets in the file. otherwise, it will import the first one or the name mentioned\n",
    "# This also imports the sheets as dictionary"
   ]
  },
  {
   "cell_type": "code",
   "execution_count": 3,
   "id": "49f3b4c1-e375-4676-936c-46f9520fe240",
   "metadata": {},
   "outputs": [
    {
     "data": {
      "text/plain": [
       "dict_keys(['Acc_info', 'Customer_Info'])"
      ]
     },
     "execution_count": 3,
     "metadata": {},
     "output_type": "execute_result"
    }
   ],
   "source": [
    "data.keys() # to display the sheet names"
   ]
  },
  {
   "cell_type": "code",
   "execution_count": 4,
   "id": "878edf49-5281-4966-8acc-2fe841516092",
   "metadata": {},
   "outputs": [],
   "source": [
    "customer_info = data['Customer_Info']\n",
    "account_info = data['Acc_info']"
   ]
  },
  {
   "cell_type": "code",
   "execution_count": 5,
   "id": "96d85e84-59ad-4e25-aa65-ea9b5325b7d9",
   "metadata": {},
   "outputs": [
    {
     "data": {
      "text/html": [
       "<div>\n",
       "<style scoped>\n",
       "    .dataframe tbody tr th:only-of-type {\n",
       "        vertical-align: middle;\n",
       "    }\n",
       "\n",
       "    .dataframe tbody tr th {\n",
       "        vertical-align: top;\n",
       "    }\n",
       "\n",
       "    .dataframe thead th {\n",
       "        text-align: right;\n",
       "    }\n",
       "</style>\n",
       "<table border=\"1\" class=\"dataframe\">\n",
       "  <thead>\n",
       "    <tr style=\"text-align: right;\">\n",
       "      <th></th>\n",
       "      <th>CustomerId</th>\n",
       "      <th>Surname</th>\n",
       "      <th>CreditScore</th>\n",
       "      <th>Geography</th>\n",
       "      <th>Gender</th>\n",
       "      <th>Age</th>\n",
       "      <th>Tenure</th>\n",
       "      <th>EstimatedSalary</th>\n",
       "    </tr>\n",
       "  </thead>\n",
       "  <tbody>\n",
       "    <tr>\n",
       "      <th>0</th>\n",
       "      <td>15634602</td>\n",
       "      <td>Hargrave</td>\n",
       "      <td>619</td>\n",
       "      <td>FRA</td>\n",
       "      <td>Female</td>\n",
       "      <td>42.0</td>\n",
       "      <td>2</td>\n",
       "      <td>€101348.88</td>\n",
       "    </tr>\n",
       "    <tr>\n",
       "      <th>1</th>\n",
       "      <td>15647311</td>\n",
       "      <td>Hill</td>\n",
       "      <td>608</td>\n",
       "      <td></td>\n",
       "      <td>Female</td>\n",
       "      <td>41.0</td>\n",
       "      <td>1</td>\n",
       "      <td>€112542.58</td>\n",
       "    </tr>\n",
       "    <tr>\n",
       "      <th>2</th>\n",
       "      <td>15619304</td>\n",
       "      <td>Onio</td>\n",
       "      <td>502</td>\n",
       "      <td>French</td>\n",
       "      <td>Female</td>\n",
       "      <td>42.0</td>\n",
       "      <td>8</td>\n",
       "      <td>€113931.57</td>\n",
       "    </tr>\n",
       "    <tr>\n",
       "      <th>3</th>\n",
       "      <td>15701354</td>\n",
       "      <td>Boni</td>\n",
       "      <td>699</td>\n",
       "      <td>FRA</td>\n",
       "      <td>Female</td>\n",
       "      <td>39.0</td>\n",
       "      <td>1</td>\n",
       "      <td>€93826.63</td>\n",
       "    </tr>\n",
       "    <tr>\n",
       "      <th>4</th>\n",
       "      <td>15737888</td>\n",
       "      <td>Mitchell</td>\n",
       "      <td>850</td>\n",
       "      <td>Spain</td>\n",
       "      <td>Female</td>\n",
       "      <td>43.0</td>\n",
       "      <td>2</td>\n",
       "      <td>€79084.1</td>\n",
       "    </tr>\n",
       "  </tbody>\n",
       "</table>\n",
       "</div>"
      ],
      "text/plain": [
       "   CustomerId   Surname  CreditScore Geography  Gender   Age  Tenure  \\\n",
       "0    15634602  Hargrave          619       FRA  Female  42.0       2   \n",
       "1    15647311      Hill          608            Female  41.0       1   \n",
       "2    15619304      Onio          502    French  Female  42.0       8   \n",
       "3    15701354      Boni          699       FRA  Female  39.0       1   \n",
       "4    15737888  Mitchell          850     Spain  Female  43.0       2   \n",
       "\n",
       "  EstimatedSalary  \n",
       "0      €101348.88  \n",
       "1      €112542.58  \n",
       "2      €113931.57  \n",
       "3       €93826.63  \n",
       "4        €79084.1  "
      ]
     },
     "execution_count": 5,
     "metadata": {},
     "output_type": "execute_result"
    }
   ],
   "source": [
    "customer_info.head()"
   ]
  },
  {
   "cell_type": "code",
   "execution_count": 6,
   "id": "66ce0ccd-42f6-4b6c-be93-637f5f2309f7",
   "metadata": {},
   "outputs": [
    {
     "data": {
      "text/html": [
       "<div>\n",
       "<style scoped>\n",
       "    .dataframe tbody tr th:only-of-type {\n",
       "        vertical-align: middle;\n",
       "    }\n",
       "\n",
       "    .dataframe tbody tr th {\n",
       "        vertical-align: top;\n",
       "    }\n",
       "\n",
       "    .dataframe thead th {\n",
       "        text-align: right;\n",
       "    }\n",
       "</style>\n",
       "<table border=\"1\" class=\"dataframe\">\n",
       "  <thead>\n",
       "    <tr style=\"text-align: right;\">\n",
       "      <th></th>\n",
       "      <th>CustomerId</th>\n",
       "      <th>Balance</th>\n",
       "      <th>NumOfProducts</th>\n",
       "      <th>HasCrCard</th>\n",
       "      <th>Tenure</th>\n",
       "      <th>IsActiveMember</th>\n",
       "      <th>Exited</th>\n",
       "    </tr>\n",
       "  </thead>\n",
       "  <tbody>\n",
       "    <tr>\n",
       "      <th>0</th>\n",
       "      <td>15634602</td>\n",
       "      <td>€0.0</td>\n",
       "      <td>1</td>\n",
       "      <td>Yes</td>\n",
       "      <td>2</td>\n",
       "      <td>Yes</td>\n",
       "      <td>1</td>\n",
       "    </tr>\n",
       "    <tr>\n",
       "      <th>1</th>\n",
       "      <td>15634602</td>\n",
       "      <td>€0.0</td>\n",
       "      <td>1</td>\n",
       "      <td>Yes</td>\n",
       "      <td>2</td>\n",
       "      <td>Yes</td>\n",
       "      <td>1</td>\n",
       "    </tr>\n",
       "    <tr>\n",
       "      <th>2</th>\n",
       "      <td>15647311</td>\n",
       "      <td>€83807.86</td>\n",
       "      <td>1</td>\n",
       "      <td>Yes</td>\n",
       "      <td>1</td>\n",
       "      <td>Yes</td>\n",
       "      <td>0</td>\n",
       "    </tr>\n",
       "    <tr>\n",
       "      <th>3</th>\n",
       "      <td>15619304</td>\n",
       "      <td>€159660.8</td>\n",
       "      <td>3</td>\n",
       "      <td>No</td>\n",
       "      <td>8</td>\n",
       "      <td>No</td>\n",
       "      <td>1</td>\n",
       "    </tr>\n",
       "    <tr>\n",
       "      <th>4</th>\n",
       "      <td>15701354</td>\n",
       "      <td>€0.0</td>\n",
       "      <td>2</td>\n",
       "      <td>No</td>\n",
       "      <td>1</td>\n",
       "      <td>No</td>\n",
       "      <td>0</td>\n",
       "    </tr>\n",
       "  </tbody>\n",
       "</table>\n",
       "</div>"
      ],
      "text/plain": [
       "   CustomerId    Balance  NumOfProducts HasCrCard  Tenure IsActiveMember  \\\n",
       "0    15634602       €0.0              1       Yes       2            Yes   \n",
       "1    15634602       €0.0              1       Yes       2            Yes   \n",
       "2    15647311  €83807.86              1       Yes       1            Yes   \n",
       "3    15619304  €159660.8              3        No       8             No   \n",
       "4    15701354       €0.0              2        No       1             No   \n",
       "\n",
       "   Exited  \n",
       "0       1  \n",
       "1       1  \n",
       "2       0  \n",
       "3       1  \n",
       "4       0  "
      ]
     },
     "execution_count": 6,
     "metadata": {},
     "output_type": "execute_result"
    }
   ],
   "source": [
    "account_info.head()"
   ]
  },
  {
   "cell_type": "markdown",
   "id": "685eef27-f835-4f8b-af4b-c80ec05f9926",
   "metadata": {},
   "source": [
    "## Joining the two Datasets together"
   ]
  },
  {
   "cell_type": "code",
   "execution_count": 7,
   "id": "58d93cf9-7400-499f-b50e-691fa0eaf930",
   "metadata": {},
   "outputs": [
    {
     "data": {
      "text/html": [
       "<div>\n",
       "<style scoped>\n",
       "    .dataframe tbody tr th:only-of-type {\n",
       "        vertical-align: middle;\n",
       "    }\n",
       "\n",
       "    .dataframe tbody tr th {\n",
       "        vertical-align: top;\n",
       "    }\n",
       "\n",
       "    .dataframe thead th {\n",
       "        text-align: right;\n",
       "    }\n",
       "</style>\n",
       "<table border=\"1\" class=\"dataframe\">\n",
       "  <thead>\n",
       "    <tr style=\"text-align: right;\">\n",
       "      <th></th>\n",
       "      <th>CustomerId</th>\n",
       "      <th>Surname</th>\n",
       "      <th>CreditScore</th>\n",
       "      <th>Geography</th>\n",
       "      <th>Gender</th>\n",
       "      <th>Age</th>\n",
       "      <th>Tenure</th>\n",
       "      <th>EstimatedSalary</th>\n",
       "      <th>Balance</th>\n",
       "      <th>NumOfProducts</th>\n",
       "      <th>HasCrCard</th>\n",
       "      <th>IsActiveMember</th>\n",
       "      <th>Exited</th>\n",
       "    </tr>\n",
       "  </thead>\n",
       "  <tbody>\n",
       "    <tr>\n",
       "      <th>0</th>\n",
       "      <td>15634602</td>\n",
       "      <td>Hargrave</td>\n",
       "      <td>619</td>\n",
       "      <td>FRA</td>\n",
       "      <td>Female</td>\n",
       "      <td>42.0</td>\n",
       "      <td>2</td>\n",
       "      <td>€101348.88</td>\n",
       "      <td>€0.0</td>\n",
       "      <td>1</td>\n",
       "      <td>Yes</td>\n",
       "      <td>Yes</td>\n",
       "      <td>1</td>\n",
       "    </tr>\n",
       "    <tr>\n",
       "      <th>1</th>\n",
       "      <td>15634602</td>\n",
       "      <td>Hargrave</td>\n",
       "      <td>619</td>\n",
       "      <td>FRA</td>\n",
       "      <td>Female</td>\n",
       "      <td>42.0</td>\n",
       "      <td>2</td>\n",
       "      <td>€101348.88</td>\n",
       "      <td>€0.0</td>\n",
       "      <td>1</td>\n",
       "      <td>Yes</td>\n",
       "      <td>Yes</td>\n",
       "      <td>1</td>\n",
       "    </tr>\n",
       "    <tr>\n",
       "      <th>2</th>\n",
       "      <td>15647311</td>\n",
       "      <td>Hill</td>\n",
       "      <td>608</td>\n",
       "      <td></td>\n",
       "      <td>Female</td>\n",
       "      <td>41.0</td>\n",
       "      <td>1</td>\n",
       "      <td>€112542.58</td>\n",
       "      <td>€83807.86</td>\n",
       "      <td>1</td>\n",
       "      <td>Yes</td>\n",
       "      <td>Yes</td>\n",
       "      <td>0</td>\n",
       "    </tr>\n",
       "    <tr>\n",
       "      <th>3</th>\n",
       "      <td>15619304</td>\n",
       "      <td>Onio</td>\n",
       "      <td>502</td>\n",
       "      <td>French</td>\n",
       "      <td>Female</td>\n",
       "      <td>42.0</td>\n",
       "      <td>8</td>\n",
       "      <td>€113931.57</td>\n",
       "      <td>€159660.8</td>\n",
       "      <td>3</td>\n",
       "      <td>No</td>\n",
       "      <td>No</td>\n",
       "      <td>1</td>\n",
       "    </tr>\n",
       "    <tr>\n",
       "      <th>4</th>\n",
       "      <td>15701354</td>\n",
       "      <td>Boni</td>\n",
       "      <td>699</td>\n",
       "      <td>FRA</td>\n",
       "      <td>Female</td>\n",
       "      <td>39.0</td>\n",
       "      <td>1</td>\n",
       "      <td>€93826.63</td>\n",
       "      <td>€0.0</td>\n",
       "      <td>2</td>\n",
       "      <td>No</td>\n",
       "      <td>No</td>\n",
       "      <td>0</td>\n",
       "    </tr>\n",
       "  </tbody>\n",
       "</table>\n",
       "</div>"
      ],
      "text/plain": [
       "   CustomerId   Surname  CreditScore Geography  Gender   Age  Tenure  \\\n",
       "0    15634602  Hargrave          619       FRA  Female  42.0       2   \n",
       "1    15634602  Hargrave          619       FRA  Female  42.0       2   \n",
       "2    15647311      Hill          608            Female  41.0       1   \n",
       "3    15619304      Onio          502    French  Female  42.0       8   \n",
       "4    15701354      Boni          699       FRA  Female  39.0       1   \n",
       "\n",
       "  EstimatedSalary    Balance  NumOfProducts HasCrCard IsActiveMember  Exited  \n",
       "0      €101348.88       €0.0              1       Yes            Yes       1  \n",
       "1      €101348.88       €0.0              1       Yes            Yes       1  \n",
       "2      €112542.58  €83807.86              1       Yes            Yes       0  \n",
       "3      €113931.57  €159660.8              3        No             No       1  \n",
       "4       €93826.63       €0.0              2        No             No       0  "
      ]
     },
     "execution_count": 7,
     "metadata": {},
     "output_type": "execute_result"
    }
   ],
   "source": [
    "df = pd.merge(customer_info, account_info, on = ['CustomerId', 'Tenure'], how = 'left') \n",
    "# on is what to join it with, more than one -- list, one -- just as a string\n",
    "# how is type of join\n",
    "df.head()"
   ]
  },
  {
   "cell_type": "markdown",
   "id": "d59d6cf9-5495-44a5-8734-8e6df746a664",
   "metadata": {},
   "source": [
    "## Check for and drop NA (null values)"
   ]
  },
  {
   "cell_type": "code",
   "execution_count": 8,
   "id": "ec314970-e45c-4566-afe2-485953bc72af",
   "metadata": {},
   "outputs": [
    {
     "data": {
      "text/plain": [
       "CustomerId         0\n",
       "Surname            3\n",
       "CreditScore        0\n",
       "Geography          0\n",
       "Gender             0\n",
       "Age                3\n",
       "Tenure             0\n",
       "EstimatedSalary    0\n",
       "Balance            0\n",
       "NumOfProducts      0\n",
       "HasCrCard          0\n",
       "IsActiveMember     0\n",
       "Exited             0\n",
       "dtype: int64"
      ]
     },
     "execution_count": 8,
     "metadata": {},
     "output_type": "execute_result"
    }
   ],
   "source": [
    "df.isna().sum()"
   ]
  },
  {
   "cell_type": "code",
   "execution_count": 9,
   "id": "bc9ef3f1-e506-4167-8718-e1b0f150606b",
   "metadata": {},
   "outputs": [],
   "source": [
    "df.dropna(inplace = True)"
   ]
  },
  {
   "cell_type": "code",
   "execution_count": 10,
   "id": "91eb41ea-e5fd-4c10-89e2-7d885706fdcb",
   "metadata": {},
   "outputs": [
    {
     "data": {
      "text/plain": [
       "CustomerId         0\n",
       "Surname            0\n",
       "CreditScore        0\n",
       "Geography          0\n",
       "Gender             0\n",
       "Age                0\n",
       "Tenure             0\n",
       "EstimatedSalary    0\n",
       "Balance            0\n",
       "NumOfProducts      0\n",
       "HasCrCard          0\n",
       "IsActiveMember     0\n",
       "Exited             0\n",
       "dtype: int64"
      ]
     },
     "execution_count": 10,
     "metadata": {},
     "output_type": "execute_result"
    }
   ],
   "source": [
    "#to confirm\n",
    "df.isna().sum()"
   ]
  },
  {
   "cell_type": "markdown",
   "id": "5f3378a1-48e3-411e-a227-2ee1f591de36",
   "metadata": {},
   "source": [
    "## Check for and drop Duplicated values "
   ]
  },
  {
   "cell_type": "code",
   "execution_count": 11,
   "id": "4f596698-4413-48b9-af9a-928a484d773d",
   "metadata": {},
   "outputs": [
    {
     "data": {
      "text/plain": [
       "4"
      ]
     },
     "execution_count": 11,
     "metadata": {},
     "output_type": "execute_result"
    }
   ],
   "source": [
    "df.duplicated().sum()"
   ]
  },
  {
   "cell_type": "code",
   "execution_count": 12,
   "id": "1f10de31-0b0f-4a10-b8ce-35c1b6bd140a",
   "metadata": {},
   "outputs": [],
   "source": [
    "df.drop_duplicates(inplace =True)"
   ]
  },
  {
   "cell_type": "code",
   "execution_count": 13,
   "id": "ca39f279-370e-498a-b6f6-d810c24ed792",
   "metadata": {},
   "outputs": [
    {
     "data": {
      "text/plain": [
       "0"
      ]
     },
     "execution_count": 13,
     "metadata": {},
     "output_type": "execute_result"
    }
   ],
   "source": [
    "# to confirm\n",
    "df.duplicated().sum()"
   ]
  },
  {
   "cell_type": "markdown",
   "id": "933704e9-efdd-498c-9fbd-5550e7fb1589",
   "metadata": {},
   "source": [
    "## Correctly format the Geography column"
   ]
  },
  {
   "cell_type": "code",
   "execution_count": 14,
   "id": "91b3d3f5-7ade-4357-ab0d-44656c4081c4",
   "metadata": {},
   "outputs": [
    {
     "data": {
      "text/plain": [
       "Index(['CustomerId', 'Surname', 'CreditScore', 'Geography', 'Gender', 'Age',\n",
       "       'Tenure', 'EstimatedSalary', 'Balance', 'NumOfProducts', 'HasCrCard',\n",
       "       'IsActiveMember', 'Exited'],\n",
       "      dtype='object')"
      ]
     },
     "execution_count": 14,
     "metadata": {},
     "output_type": "execute_result"
    }
   ],
   "source": [
    "df.columns"
   ]
  },
  {
   "cell_type": "code",
   "execution_count": 15,
   "id": "1d266033-3751-4137-a7e7-3f1e16662658",
   "metadata": {},
   "outputs": [
    {
     "data": {
      "text/plain": [
       "Geography\n",
       "Germany    2508\n",
       "Spain      2475\n",
       "France     1740\n",
       "French     1655\n",
       "FRA        1618\n",
       "              1\n",
       "Name: count, dtype: int64"
      ]
     },
     "execution_count": 15,
     "metadata": {},
     "output_type": "execute_result"
    }
   ],
   "source": [
    "df['Geography'].value_counts()"
   ]
  },
  {
   "cell_type": "code",
   "execution_count": 16,
   "id": "153058ed-144d-4d25-b430-6af91e641b25",
   "metadata": {},
   "outputs": [
    {
     "data": {
      "text/plain": [
       "Geography\n",
       "France     5013\n",
       "Germany    2508\n",
       "Spain      2475\n",
       "              1\n",
       "Name: count, dtype: int64"
      ]
     },
     "execution_count": 16,
     "metadata": {},
     "output_type": "execute_result"
    }
   ],
   "source": [
    "df['Geography'] = df['Geography'].astype(str).replace({'FRA':'France', 'French':'France'})\n",
    "df['Geography'].value_counts()"
   ]
  },
  {
   "cell_type": "code",
   "execution_count": 17,
   "id": "fa2c666a-dac0-40a5-948d-093eae2ba17c",
   "metadata": {},
   "outputs": [
    {
     "data": {
      "text/plain": [
       "Geography\n",
       "France     5013\n",
       "Germany    2508\n",
       "Spain      2475\n",
       "Name: count, dtype: int64"
      ]
     },
     "execution_count": 17,
     "metadata": {},
     "output_type": "execute_result"
    }
   ],
   "source": [
    "# to remove the empty space\n",
    "df = df[df['Geography'].isin(['Germany', 'France', 'Spain'])]\n",
    "#can be written as df[(df['Geography'] == 'Germany') | (df['Geography'] == 'France') | (df['Geography'] == 'Spain')]\n",
    "\n",
    "df['Geography'].value_counts()"
   ]
  },
  {
   "cell_type": "code",
   "execution_count": 18,
   "id": "e7557a41-4317-4d42-b1eb-fcc821df3eee",
   "metadata": {},
   "outputs": [
    {
     "data": {
      "text/html": [
       "<div>\n",
       "<style scoped>\n",
       "    .dataframe tbody tr th:only-of-type {\n",
       "        vertical-align: middle;\n",
       "    }\n",
       "\n",
       "    .dataframe tbody tr th {\n",
       "        vertical-align: top;\n",
       "    }\n",
       "\n",
       "    .dataframe thead th {\n",
       "        text-align: right;\n",
       "    }\n",
       "</style>\n",
       "<table border=\"1\" class=\"dataframe\">\n",
       "  <thead>\n",
       "    <tr style=\"text-align: right;\">\n",
       "      <th></th>\n",
       "      <th>CustomerId</th>\n",
       "      <th>Surname</th>\n",
       "      <th>CreditScore</th>\n",
       "      <th>Geography</th>\n",
       "      <th>Gender</th>\n",
       "      <th>Age</th>\n",
       "      <th>Tenure</th>\n",
       "      <th>EstimatedSalary</th>\n",
       "      <th>Balance</th>\n",
       "      <th>NumOfProducts</th>\n",
       "      <th>HasCrCard</th>\n",
       "      <th>IsActiveMember</th>\n",
       "      <th>Exited</th>\n",
       "    </tr>\n",
       "  </thead>\n",
       "  <tbody>\n",
       "    <tr>\n",
       "      <th>0</th>\n",
       "      <td>15634602</td>\n",
       "      <td>Hargrave</td>\n",
       "      <td>619</td>\n",
       "      <td>France</td>\n",
       "      <td>Female</td>\n",
       "      <td>42.0</td>\n",
       "      <td>2</td>\n",
       "      <td>€101348.88</td>\n",
       "      <td>€0.0</td>\n",
       "      <td>1</td>\n",
       "      <td>Yes</td>\n",
       "      <td>Yes</td>\n",
       "      <td>1</td>\n",
       "    </tr>\n",
       "    <tr>\n",
       "      <th>3</th>\n",
       "      <td>15619304</td>\n",
       "      <td>Onio</td>\n",
       "      <td>502</td>\n",
       "      <td>France</td>\n",
       "      <td>Female</td>\n",
       "      <td>42.0</td>\n",
       "      <td>8</td>\n",
       "      <td>€113931.57</td>\n",
       "      <td>€159660.8</td>\n",
       "      <td>3</td>\n",
       "      <td>No</td>\n",
       "      <td>No</td>\n",
       "      <td>1</td>\n",
       "    </tr>\n",
       "    <tr>\n",
       "      <th>4</th>\n",
       "      <td>15701354</td>\n",
       "      <td>Boni</td>\n",
       "      <td>699</td>\n",
       "      <td>France</td>\n",
       "      <td>Female</td>\n",
       "      <td>39.0</td>\n",
       "      <td>1</td>\n",
       "      <td>€93826.63</td>\n",
       "      <td>€0.0</td>\n",
       "      <td>2</td>\n",
       "      <td>No</td>\n",
       "      <td>No</td>\n",
       "      <td>0</td>\n",
       "    </tr>\n",
       "    <tr>\n",
       "      <th>5</th>\n",
       "      <td>15737888</td>\n",
       "      <td>Mitchell</td>\n",
       "      <td>850</td>\n",
       "      <td>Spain</td>\n",
       "      <td>Female</td>\n",
       "      <td>43.0</td>\n",
       "      <td>2</td>\n",
       "      <td>€79084.1</td>\n",
       "      <td>€125510.82</td>\n",
       "      <td>1</td>\n",
       "      <td>Yes</td>\n",
       "      <td>Yes</td>\n",
       "      <td>0</td>\n",
       "    </tr>\n",
       "    <tr>\n",
       "      <th>6</th>\n",
       "      <td>15574012</td>\n",
       "      <td>Chu</td>\n",
       "      <td>645</td>\n",
       "      <td>Spain</td>\n",
       "      <td>Male</td>\n",
       "      <td>44.0</td>\n",
       "      <td>8</td>\n",
       "      <td>€149756.71</td>\n",
       "      <td>€113755.78</td>\n",
       "      <td>2</td>\n",
       "      <td>No</td>\n",
       "      <td>No</td>\n",
       "      <td>1</td>\n",
       "    </tr>\n",
       "    <tr>\n",
       "      <th>...</th>\n",
       "      <td>...</td>\n",
       "      <td>...</td>\n",
       "      <td>...</td>\n",
       "      <td>...</td>\n",
       "      <td>...</td>\n",
       "      <td>...</td>\n",
       "      <td>...</td>\n",
       "      <td>...</td>\n",
       "      <td>...</td>\n",
       "      <td>...</td>\n",
       "      <td>...</td>\n",
       "      <td>...</td>\n",
       "      <td>...</td>\n",
       "    </tr>\n",
       "    <tr>\n",
       "      <th>9996</th>\n",
       "      <td>15606229</td>\n",
       "      <td>Obijiaku</td>\n",
       "      <td>771</td>\n",
       "      <td>France</td>\n",
       "      <td>Male</td>\n",
       "      <td>39.0</td>\n",
       "      <td>5</td>\n",
       "      <td>€96270.64</td>\n",
       "      <td>€0.0</td>\n",
       "      <td>2</td>\n",
       "      <td>No</td>\n",
       "      <td>No</td>\n",
       "      <td>0</td>\n",
       "    </tr>\n",
       "    <tr>\n",
       "      <th>9997</th>\n",
       "      <td>15569892</td>\n",
       "      <td>Johnstone</td>\n",
       "      <td>516</td>\n",
       "      <td>France</td>\n",
       "      <td>Male</td>\n",
       "      <td>35.0</td>\n",
       "      <td>10</td>\n",
       "      <td>€101699.77</td>\n",
       "      <td>€57369.61</td>\n",
       "      <td>1</td>\n",
       "      <td>Yes</td>\n",
       "      <td>Yes</td>\n",
       "      <td>0</td>\n",
       "    </tr>\n",
       "    <tr>\n",
       "      <th>9998</th>\n",
       "      <td>15584532</td>\n",
       "      <td>Liu</td>\n",
       "      <td>709</td>\n",
       "      <td>France</td>\n",
       "      <td>Female</td>\n",
       "      <td>36.0</td>\n",
       "      <td>7</td>\n",
       "      <td>€42085.58</td>\n",
       "      <td>€0.0</td>\n",
       "      <td>1</td>\n",
       "      <td>Yes</td>\n",
       "      <td>Yes</td>\n",
       "      <td>1</td>\n",
       "    </tr>\n",
       "    <tr>\n",
       "      <th>9999</th>\n",
       "      <td>15682355</td>\n",
       "      <td>Sabbatini</td>\n",
       "      <td>772</td>\n",
       "      <td>Germany</td>\n",
       "      <td>Male</td>\n",
       "      <td>42.0</td>\n",
       "      <td>3</td>\n",
       "      <td>€92888.52</td>\n",
       "      <td>€75075.31</td>\n",
       "      <td>2</td>\n",
       "      <td>No</td>\n",
       "      <td>No</td>\n",
       "      <td>1</td>\n",
       "    </tr>\n",
       "    <tr>\n",
       "      <th>10000</th>\n",
       "      <td>15628319</td>\n",
       "      <td>Walker</td>\n",
       "      <td>792</td>\n",
       "      <td>France</td>\n",
       "      <td>Female</td>\n",
       "      <td>28.0</td>\n",
       "      <td>4</td>\n",
       "      <td>€38190.78</td>\n",
       "      <td>€130142.79</td>\n",
       "      <td>1</td>\n",
       "      <td>No</td>\n",
       "      <td>No</td>\n",
       "      <td>0</td>\n",
       "    </tr>\n",
       "  </tbody>\n",
       "</table>\n",
       "<p>9996 rows × 13 columns</p>\n",
       "</div>"
      ],
      "text/plain": [
       "       CustomerId    Surname  CreditScore Geography  Gender   Age  Tenure  \\\n",
       "0        15634602   Hargrave          619    France  Female  42.0       2   \n",
       "3        15619304       Onio          502    France  Female  42.0       8   \n",
       "4        15701354       Boni          699    France  Female  39.0       1   \n",
       "5        15737888   Mitchell          850     Spain  Female  43.0       2   \n",
       "6        15574012        Chu          645     Spain    Male  44.0       8   \n",
       "...           ...        ...          ...       ...     ...   ...     ...   \n",
       "9996     15606229   Obijiaku          771    France    Male  39.0       5   \n",
       "9997     15569892  Johnstone          516    France    Male  35.0      10   \n",
       "9998     15584532        Liu          709    France  Female  36.0       7   \n",
       "9999     15682355  Sabbatini          772   Germany    Male  42.0       3   \n",
       "10000    15628319     Walker          792    France  Female  28.0       4   \n",
       "\n",
       "      EstimatedSalary     Balance  NumOfProducts HasCrCard IsActiveMember  \\\n",
       "0          €101348.88        €0.0              1       Yes            Yes   \n",
       "3          €113931.57   €159660.8              3        No             No   \n",
       "4           €93826.63        €0.0              2        No             No   \n",
       "5            €79084.1  €125510.82              1       Yes            Yes   \n",
       "6          €149756.71  €113755.78              2        No             No   \n",
       "...               ...         ...            ...       ...            ...   \n",
       "9996        €96270.64        €0.0              2        No             No   \n",
       "9997       €101699.77   €57369.61              1       Yes            Yes   \n",
       "9998        €42085.58        €0.0              1       Yes            Yes   \n",
       "9999        €92888.52   €75075.31              2        No             No   \n",
       "10000       €38190.78  €130142.79              1        No             No   \n",
       "\n",
       "       Exited  \n",
       "0           1  \n",
       "3           1  \n",
       "4           0  \n",
       "5           0  \n",
       "6           1  \n",
       "...       ...  \n",
       "9996        0  \n",
       "9997        0  \n",
       "9998        1  \n",
       "9999        1  \n",
       "10000       0  \n",
       "\n",
       "[9996 rows x 13 columns]"
      ]
     },
     "execution_count": 18,
     "metadata": {},
     "output_type": "execute_result"
    }
   ],
   "source": [
    "df"
   ]
  },
  {
   "cell_type": "markdown",
   "id": "78164ba8-a5f1-4348-bcbf-7baa898f8da5",
   "metadata": {},
   "source": [
    "## Question 1:\n",
    "<p>What is the total balance for each Geography</p>"
   ]
  },
  {
   "cell_type": "code",
   "execution_count": 19,
   "id": "922291f8-c475-4f04-9f85-1cb580e3588b",
   "metadata": {},
   "outputs": [
    {
     "data": {
      "text/plain": [
       "Geography\n",
       "France     3.113325e+08\n",
       "Germany    3.002615e+08\n",
       "Spain      1.529196e+08\n",
       "Name: Balance, dtype: float64"
      ]
     },
     "execution_count": 19,
     "metadata": {},
     "output_type": "execute_result"
    }
   ],
   "source": [
    "# First convert Balance to numerical value\n",
    "df['Balance'] = df['Balance'].astype(str).replace(r'[^\\d.]', '', regex = True).astype(float)\n",
    "\n",
    "#then \n",
    "total_bal_byGeo = df.groupby('Geography')['Balance'].sum()\n",
    "\n",
    "#can as well be written as :\n",
    "# total_bal_byGeo =  df.groupby('Geography').agg({'Balance': 'sum'})\n",
    "total_bal_byGeo"
   ]
  },
  {
   "cell_type": "markdown",
   "id": "c6908d8d-47fb-44b6-9c6d-9d5220676f63",
   "metadata": {},
   "source": [
    "#### Displaying the total balance for each geography without Scientific notation (e+10)"
   ]
  },
  {
   "cell_type": "code",
   "execution_count": 20,
   "id": "ff846a5c-1cce-469b-b023-dddbc6ee4548",
   "metadata": {},
   "outputs": [
    {
     "name": "stdout",
     "output_type": "stream",
     "text": [
      "France: 311332479.49\n",
      "Germany: 300261511.95\n",
      "Spain: 152919550.73\n"
     ]
    }
   ],
   "source": [
    "for geo, bal in total_bal_byGeo.items():\n",
    "    print(f\"{geo}: {bal:.2f}\")"
   ]
  },
  {
   "cell_type": "markdown",
   "id": "f476e3ac-095b-4a5f-af37-404439659b01",
   "metadata": {},
   "source": [
    "## Question 2\n",
    "<p>Which age group has the highest credit score?</p>"
   ]
  },
  {
   "cell_type": "code",
   "execution_count": 21,
   "id": "2f4a0a31-7b08-4c66-bd23-67718ef04b46",
   "metadata": {},
   "outputs": [
    {
     "data": {
      "text/plain": [
       "0        42.0\n",
       "3        42.0\n",
       "4        39.0\n",
       "5        43.0\n",
       "6        44.0\n",
       "         ... \n",
       "9996     39.0\n",
       "9997     35.0\n",
       "9998     36.0\n",
       "9999     42.0\n",
       "10000    28.0\n",
       "Name: Age, Length: 9996, dtype: float64"
      ]
     },
     "execution_count": 21,
     "metadata": {},
     "output_type": "execute_result"
    }
   ],
   "source": [
    "df['Age']"
   ]
  },
  {
   "cell_type": "code",
   "execution_count": 22,
   "id": "92d040ba-5e4a-4f1b-a305-dbea7b9fdcc8",
   "metadata": {},
   "outputs": [],
   "source": [
    "# First, lets create the Age groups\n",
    "bins =  [18, 30, 50, 70, 90, 100]\n",
    "label = ['18-30',  '31-50', '51-70', '71-90', '91+']\n",
    "df['Age Group'] = pd.cut(x = df['Age'], bins=bins, labels=label)\n",
    "\n",
    "\n",
    "## Another form of creating age grade\n",
    "# Create a function\n",
    "def age_grade(age):\n",
    "    if age< 18:\n",
    "        return f'less 18'\n",
    "\n",
    "    elif 18 <= age <=30:\n",
    "        return f\"18-30\"\n",
    "\n",
    "    elif 31 <= age <= 50:\n",
    "        return f\"31-50\"\n",
    "\n",
    "    elif 51 <= age <= 70:\n",
    "        return f\"51-70\"\n",
    "\n",
    "    elif 71 <= age <= 90:\n",
    "        return f\"71-90\"\n",
    "\n",
    "    else:\n",
    "        return f\"91+\"\n",
    "\n",
    "# Then use the function to create the age grade\n",
    "# df['Age Grade'] = df['Age'].apply(lambda x: age_grade(x))\n",
    "\n",
    "#dropping the created Age Grade column\n",
    "# df.drop(columns='Age Grade', inplace=True)"
   ]
  },
  {
   "cell_type": "code",
   "execution_count": 23,
   "id": "e29da0d5-1c03-4fca-b9c1-f192060a2e57",
   "metadata": {},
   "outputs": [
    {
     "name": "stderr",
     "output_type": "stream",
     "text": [
      "C:\\Users\\HP\\AppData\\Local\\Temp\\ipykernel_3800\\1709588161.py:1: FutureWarning: The default of observed=False is deprecated and will be changed to True in a future version of pandas. Pass observed=False to retain current behavior or observed=True to adopt the future default and silence this warning.\n",
      "  df.groupby('Age Group').agg({'CreditScore': 'mean'}).sort_values(by= 'CreditScore', ascending=True)\n"
     ]
    },
    {
     "data": {
      "text/html": [
       "<div>\n",
       "<style scoped>\n",
       "    .dataframe tbody tr th:only-of-type {\n",
       "        vertical-align: middle;\n",
       "    }\n",
       "\n",
       "    .dataframe tbody tr th {\n",
       "        vertical-align: top;\n",
       "    }\n",
       "\n",
       "    .dataframe thead th {\n",
       "        text-align: right;\n",
       "    }\n",
       "</style>\n",
       "<table border=\"1\" class=\"dataframe\">\n",
       "  <thead>\n",
       "    <tr style=\"text-align: right;\">\n",
       "      <th></th>\n",
       "      <th>CreditScore</th>\n",
       "    </tr>\n",
       "    <tr>\n",
       "      <th>Age Group</th>\n",
       "      <th></th>\n",
       "    </tr>\n",
       "  </thead>\n",
       "  <tbody>\n",
       "    <tr>\n",
       "      <th>51-70</th>\n",
       "      <td>648.070922</td>\n",
       "    </tr>\n",
       "    <tr>\n",
       "      <th>31-50</th>\n",
       "      <td>650.532141</td>\n",
       "    </tr>\n",
       "    <tr>\n",
       "      <th>18-30</th>\n",
       "      <td>650.799589</td>\n",
       "    </tr>\n",
       "    <tr>\n",
       "      <th>71-90</th>\n",
       "      <td>661.816794</td>\n",
       "    </tr>\n",
       "    <tr>\n",
       "      <th>91+</th>\n",
       "      <td>729.000000</td>\n",
       "    </tr>\n",
       "  </tbody>\n",
       "</table>\n",
       "</div>"
      ],
      "text/plain": [
       "           CreditScore\n",
       "Age Group             \n",
       "51-70       648.070922\n",
       "31-50       650.532141\n",
       "18-30       650.799589\n",
       "71-90       661.816794\n",
       "91+         729.000000"
      ]
     },
     "execution_count": 23,
     "metadata": {},
     "output_type": "execute_result"
    }
   ],
   "source": [
    "df.groupby('Age Group').agg({'CreditScore': 'mean'}).sort_values(by= 'CreditScore', ascending=True)"
   ]
  },
  {
   "cell_type": "markdown",
   "id": "716b87d8-a68a-4225-9d0a-2ae4fc316d55",
   "metadata": {},
   "source": [
    "## Question 3\n",
    "<p>What is the average Estimated Salary for each Gender?</p>"
   ]
  },
  {
   "cell_type": "code",
   "execution_count": 24,
   "id": "b45dbea2-7b0d-4096-b3d1-021dc6d8495b",
   "metadata": {},
   "outputs": [
    {
     "data": {
      "text/plain": [
       "Gender\n",
       "Female    100603.511443\n",
       "Male       99664.491452\n",
       "Name: EstimatedSalary, dtype: float64"
      ]
     },
     "execution_count": 24,
     "metadata": {},
     "output_type": "execute_result"
    }
   ],
   "source": [
    "df['EstimatedSalary'] = df['EstimatedSalary'].astype(str).replace(r'[^\\d.]', '', regex = True).astype(float)\n",
    "\n",
    "df.groupby('Gender')['EstimatedSalary'].mean()"
   ]
  },
  {
   "cell_type": "markdown",
   "id": "0e84086d-5502-450f-85fb-0c61f34f81e1",
   "metadata": {},
   "source": [
    "## Question 4\n",
    "<p>What is the average balance for active members compared to active members?</p>"
   ]
  },
  {
   "cell_type": "code",
   "execution_count": 25,
   "id": "4f70e197-7534-4652-86dd-5e1804adf8fe",
   "metadata": {},
   "outputs": [
    {
     "data": {
      "text/plain": [
       "Index(['CustomerId', 'Surname', 'CreditScore', 'Geography', 'Gender', 'Age',\n",
       "       'Tenure', 'EstimatedSalary', 'Balance', 'NumOfProducts', 'HasCrCard',\n",
       "       'IsActiveMember', 'Exited', 'Age Group'],\n",
       "      dtype='object')"
      ]
     },
     "execution_count": 25,
     "metadata": {},
     "output_type": "execute_result"
    }
   ],
   "source": [
    "df.columns"
   ]
  },
  {
   "cell_type": "code",
   "execution_count": 26,
   "id": "89cad766-c3e1-4fd4-a410-aa1be39886ba",
   "metadata": {},
   "outputs": [],
   "source": [
    "# df['Balance'] = df['Balance'].astype(str).replace(r'[^\\d]', '', regex = True).astype(float)\n",
    "# avr_by_active = df.groupby('IsActiveMember')['Balance'].mean()\n",
    "# avr_by_active"
   ]
  },
  {
   "cell_type": "code",
   "execution_count": 27,
   "id": "22852220-237f-4692-9a77-6842fe8971e3",
   "metadata": {},
   "outputs": [],
   "source": [
    "# for active, bal in avr_by_active.items():\n",
    "#     print(f\"{active}: {bal:.2f}\")"
   ]
  },
  {
   "cell_type": "markdown",
   "id": "6eeea0ef-44af-4a0c-af45-a7835cb83d14",
   "metadata": {},
   "source": [
    "__Because the \"replace\" removes the decimal point but add the decimal values as part of the number which makes the number longer__\n",
    "<p>we do this instead</p>"
   ]
  },
  {
   "cell_type": "code",
   "execution_count": 28,
   "id": "a9feb87a-9dd3-4811-8aa9-32e05efbd87d",
   "metadata": {},
   "outputs": [
    {
     "data": {
      "text/html": [
       "<div>\n",
       "<style scoped>\n",
       "    .dataframe tbody tr th:only-of-type {\n",
       "        vertical-align: middle;\n",
       "    }\n",
       "\n",
       "    .dataframe tbody tr th {\n",
       "        vertical-align: top;\n",
       "    }\n",
       "\n",
       "    .dataframe thead th {\n",
       "        text-align: right;\n",
       "    }\n",
       "</style>\n",
       "<table border=\"1\" class=\"dataframe\">\n",
       "  <thead>\n",
       "    <tr style=\"text-align: right;\">\n",
       "      <th></th>\n",
       "      <th>Balance</th>\n",
       "    </tr>\n",
       "    <tr>\n",
       "      <th>IsActiveMember</th>\n",
       "      <th></th>\n",
       "    </tr>\n",
       "  </thead>\n",
       "  <tbody>\n",
       "    <tr>\n",
       "      <th>No</th>\n",
       "      <td>77125.495047</td>\n",
       "    </tr>\n",
       "    <tr>\n",
       "      <th>Yes</th>\n",
       "      <td>75875.901744</td>\n",
       "    </tr>\n",
       "  </tbody>\n",
       "</table>\n",
       "</div>"
      ],
      "text/plain": [
       "                     Balance\n",
       "IsActiveMember              \n",
       "No              77125.495047\n",
       "Yes             75875.901744"
      ]
     },
     "execution_count": 28,
     "metadata": {},
     "output_type": "execute_result"
    }
   ],
   "source": [
    "balance_by_active = df.groupby('IsActiveMember').agg({'Balance': 'mean'}).sort_values(by = 'Balance', ascending = False)\n",
    "balance_by_active"
   ]
  },
  {
   "cell_type": "code",
   "execution_count": 29,
   "id": "8a54eaef-b10a-4100-97c4-4e14f60b0f6f",
   "metadata": {},
   "outputs": [
    {
     "name": "stdout",
     "output_type": "stream",
     "text": [
      "('Balance', 'No'): 77125.50\n",
      "('Balance', 'Yes'): 75875.90\n"
     ]
    }
   ],
   "source": [
    "for act, bal in balance_by_active.unstack().items():\n",
    "    print(f\"{act}: {bal:.2f}\")"
   ]
  },
  {
   "cell_type": "markdown",
   "id": "5e8c7875-2f6a-46bc-ba68-66b90dd8bc76",
   "metadata": {},
   "source": [
    "## Question 5\n",
    "<p>Which Geography has the highest number of customers with a credit Card</p>"
   ]
  },
  {
   "cell_type": "code",
   "execution_count": 30,
   "id": "203e9c55-88a8-407d-a9e9-662b69af28bb",
   "metadata": {},
   "outputs": [
    {
     "data": {
      "text/plain": [
       "Geography\n",
       "France     2590\n",
       "Germany    1247\n",
       "Spain      1311\n",
       "Name: HasCrCard, dtype: int64"
      ]
     },
     "execution_count": 30,
     "metadata": {},
     "output_type": "execute_result"
    }
   ],
   "source": [
    "max_CrCard = df[df['HasCrCard'] == 'Yes'].groupby('Geography')['HasCrCard'].count()\n",
    "# Can be written as: df[df['HasCrCard'] == 'Yes'].groupby('Geography').size() --- . size() replaces the 'column.count()''\n",
    "\n",
    "max_CrCard"
   ]
  },
  {
   "cell_type": "code",
   "execution_count": 31,
   "id": "a9ca9057-fe43-48b7-99b4-4e0299c45235",
   "metadata": {},
   "outputs": [
    {
     "data": {
      "text/plain": [
       "'France'"
      ]
     },
     "execution_count": 31,
     "metadata": {},
     "output_type": "execute_result"
    }
   ],
   "source": [
    "max_CrCard.idxmax()"
   ]
  },
  {
   "cell_type": "code",
   "execution_count": 32,
   "id": "7f87551e-2e24-465b-a44b-cc52cbde0255",
   "metadata": {},
   "outputs": [
    {
     "data": {
      "text/plain": [
       "Geography  HasCrCard\n",
       "France     No           2423\n",
       "           Yes          2590\n",
       "Germany    No           1261\n",
       "           Yes          1247\n",
       "Spain      No           1164\n",
       "           Yes          1311\n",
       "dtype: int64"
      ]
     },
     "execution_count": 32,
     "metadata": {},
     "output_type": "execute_result"
    }
   ],
   "source": [
    "df.groupby(['Geography', 'HasCrCard']).size()"
   ]
  },
  {
   "cell_type": "code",
   "execution_count": 33,
   "id": "e048a147-e1a6-49ee-92f5-52ae9a9dfa72",
   "metadata": {},
   "outputs": [
    {
     "data": {
      "text/html": [
       "<div>\n",
       "<style scoped>\n",
       "    .dataframe tbody tr th:only-of-type {\n",
       "        vertical-align: middle;\n",
       "    }\n",
       "\n",
       "    .dataframe tbody tr th {\n",
       "        vertical-align: top;\n",
       "    }\n",
       "\n",
       "    .dataframe thead tr th {\n",
       "        text-align: left;\n",
       "    }\n",
       "\n",
       "    .dataframe thead tr:last-of-type th {\n",
       "        text-align: right;\n",
       "    }\n",
       "</style>\n",
       "<table border=\"1\" class=\"dataframe\">\n",
       "  <thead>\n",
       "    <tr>\n",
       "      <th></th>\n",
       "      <th colspan=\"2\" halign=\"left\">HasCrCard</th>\n",
       "    </tr>\n",
       "    <tr>\n",
       "      <th>HasCrCard</th>\n",
       "      <th>No</th>\n",
       "      <th>Yes</th>\n",
       "    </tr>\n",
       "    <tr>\n",
       "      <th>Geography</th>\n",
       "      <th></th>\n",
       "      <th></th>\n",
       "    </tr>\n",
       "  </thead>\n",
       "  <tbody>\n",
       "    <tr>\n",
       "      <th>France</th>\n",
       "      <td>2423</td>\n",
       "      <td>2590</td>\n",
       "    </tr>\n",
       "    <tr>\n",
       "      <th>Germany</th>\n",
       "      <td>1261</td>\n",
       "      <td>1247</td>\n",
       "    </tr>\n",
       "    <tr>\n",
       "      <th>Spain</th>\n",
       "      <td>1164</td>\n",
       "      <td>1311</td>\n",
       "    </tr>\n",
       "  </tbody>\n",
       "</table>\n",
       "</div>"
      ],
      "text/plain": [
       "          HasCrCard      \n",
       "HasCrCard        No   Yes\n",
       "Geography                \n",
       "France         2423  2590\n",
       "Germany        1261  1247\n",
       "Spain          1164  1311"
      ]
     },
     "execution_count": 33,
     "metadata": {},
     "output_type": "execute_result"
    }
   ],
   "source": [
    "# to sum all yes or no\n",
    "x = df.groupby(['Geography', 'HasCrCard']).agg({'HasCrCard': 'count'}).unstack()\n",
    "x"
   ]
  },
  {
   "cell_type": "code",
   "execution_count": 34,
   "id": "5b2237af-5cad-4779-9cec-9287e218b0b7",
   "metadata": {},
   "outputs": [
    {
     "data": {
      "text/plain": [
       "MultiIndex([('HasCrCard',  'No'),\n",
       "            ('HasCrCard', 'Yes')],\n",
       "           names=[None, 'HasCrCard'])"
      ]
     },
     "execution_count": 34,
     "metadata": {},
     "output_type": "execute_result"
    }
   ],
   "source": [
    "x.columns"
   ]
  },
  {
   "cell_type": "code",
   "execution_count": 35,
   "id": "d52646bb-f594-410f-8556-97191a6670fb",
   "metadata": {},
   "outputs": [
    {
     "data": {
      "text/plain": [
       "('HasCrCard', 'No')"
      ]
     },
     "execution_count": 35,
     "metadata": {},
     "output_type": "execute_result"
    }
   ],
   "source": [
    "#Because its a multiIndex\n",
    "x.columns[0]"
   ]
  },
  {
   "cell_type": "code",
   "execution_count": 36,
   "id": "382cc55f-5b6a-4fd9-9e17-5cbb9b59aa40",
   "metadata": {},
   "outputs": [
    {
     "data": {
      "text/plain": [
       "('HasCrCard', 'Yes')"
      ]
     },
     "execution_count": 36,
     "metadata": {},
     "output_type": "execute_result"
    }
   ],
   "source": [
    "x.columns[1]"
   ]
  },
  {
   "cell_type": "code",
   "execution_count": 37,
   "id": "f93b0d37-2140-428e-bc76-f2c752d9490d",
   "metadata": {},
   "outputs": [
    {
     "data": {
      "text/plain": [
       "5148"
      ]
     },
     "execution_count": 37,
     "metadata": {},
     "output_type": "execute_result"
    }
   ],
   "source": [
    "x['HasCrCard','Yes'].sum()"
   ]
  },
  {
   "cell_type": "markdown",
   "id": "42cf724e-e933-48aa-8adb-c98191d9190d",
   "metadata": {},
   "source": [
    "## Question 6\n",
    "<p>What is the total value of balances for each gender</p>"
   ]
  },
  {
   "cell_type": "code",
   "execution_count": 38,
   "id": "a9d92dc5-1b9a-4586-825a-1790a4c317f4",
   "metadata": {},
   "outputs": [
    {
     "data": {
      "text/plain": [
       "CustomerId            int64\n",
       "Surname              object\n",
       "CreditScore           int64\n",
       "Geography            object\n",
       "Gender               object\n",
       "Age                 float64\n",
       "Tenure                int64\n",
       "EstimatedSalary     float64\n",
       "Balance             float64\n",
       "NumOfProducts         int64\n",
       "HasCrCard            object\n",
       "IsActiveMember       object\n",
       "Exited                int64\n",
       "Age Group          category\n",
       "dtype: object"
      ]
     },
     "execution_count": 38,
     "metadata": {},
     "output_type": "execute_result"
    }
   ],
   "source": [
    "df.dtypes"
   ]
  },
  {
   "cell_type": "code",
   "execution_count": 39,
   "id": "afb3a5d3-ae8b-4a04-9298-ab952d1a8647",
   "metadata": {},
   "outputs": [
    {
     "name": "stdout",
     "output_type": "stream",
     "text": [
      "Male: 421018185.46\n",
      "Female: 343495356.71\n"
     ]
    }
   ],
   "source": [
    "balance_by_gender = df.groupby('Gender')['Balance'].sum().sort_values(ascending = False)\n",
    "for gen, bal in balance_by_gender.items():\n",
    "    print(f\"{gen}: {bal:.2f}\")"
   ]
  },
  {
   "cell_type": "code",
   "execution_count": 40,
   "id": "2c4d7df6-f392-4004-82ab-b090f9713a86",
   "metadata": {},
   "outputs": [
    {
     "name": "stdout",
     "output_type": "stream",
     "text": [
      "Male: 421,018,185.46\n",
      "Female: 343,495,356.71\n"
     ]
    }
   ],
   "source": [
    "for i, v in balance_by_gender.items():\n",
    "    print(f\"{i}: {v:,.2f}\") # \",.2f\" adds 2 dpl then comma after 3 numbers"
   ]
  },
  {
   "cell_type": "markdown",
   "id": "b75d1d65-feb6-4850-82c0-7c6868065f78",
   "metadata": {},
   "source": [
    "## Question 7\n",
    "<p>Which age group has the highest churn rate?</p>"
   ]
  },
  {
   "cell_type": "code",
   "execution_count": 41,
   "id": "292c14c5-298b-444f-9bb8-7ee60f0a7fd8",
   "metadata": {},
   "outputs": [
    {
     "name": "stderr",
     "output_type": "stream",
     "text": [
      "C:\\Users\\HP\\AppData\\Local\\Temp\\ipykernel_3800\\795162838.py:1: FutureWarning: The default of observed=False is deprecated and will be changed to True in a future version of pandas. Pass observed=False to retain current behavior or observed=True to adopt the future default and silence this warning.\n",
      "  df.groupby('Age Group').agg({'Exited' : 'mean'}).idxmax()\n"
     ]
    },
    {
     "data": {
      "text/plain": [
       "Exited    51-70\n",
       "dtype: category\n",
       "Categories (5, object): ['18-30' < '31-50' < '51-70' < '71-90' < '91+']"
      ]
     },
     "execution_count": 41,
     "metadata": {},
     "output_type": "execute_result"
    }
   ],
   "source": [
    "df.groupby('Age Group').agg({'Exited' : 'mean'}).idxmax()"
   ]
  },
  {
   "cell_type": "markdown",
   "id": "123000e9-8c2a-4760-ae08-43f5fb343ecc",
   "metadata": {},
   "source": [
    "## Question 8\n",
    "<p>What is the average tenure of customers who have exited compared to those who have not</p>"
   ]
  },
  {
   "cell_type": "code",
   "execution_count": 42,
   "id": "5a455084-fa5b-4940-889e-7b4a44c77fc0",
   "metadata": {},
   "outputs": [
    {
     "data": {
      "text/html": [
       "<div>\n",
       "<style scoped>\n",
       "    .dataframe tbody tr th:only-of-type {\n",
       "        vertical-align: middle;\n",
       "    }\n",
       "\n",
       "    .dataframe tbody tr th {\n",
       "        vertical-align: top;\n",
       "    }\n",
       "\n",
       "    .dataframe thead th {\n",
       "        text-align: right;\n",
       "    }\n",
       "</style>\n",
       "<table border=\"1\" class=\"dataframe\">\n",
       "  <thead>\n",
       "    <tr style=\"text-align: right;\">\n",
       "      <th></th>\n",
       "      <th>Tenure</th>\n",
       "    </tr>\n",
       "    <tr>\n",
       "      <th>Exited</th>\n",
       "      <th></th>\n",
       "    </tr>\n",
       "  </thead>\n",
       "  <tbody>\n",
       "    <tr>\n",
       "      <th>0</th>\n",
       "      <td>5.03</td>\n",
       "    </tr>\n",
       "    <tr>\n",
       "      <th>1</th>\n",
       "      <td>4.93</td>\n",
       "    </tr>\n",
       "  </tbody>\n",
       "</table>\n",
       "</div>"
      ],
      "text/plain": [
       "        Tenure\n",
       "Exited        \n",
       "0         5.03\n",
       "1         4.93"
      ]
     },
     "execution_count": 42,
     "metadata": {},
     "output_type": "execute_result"
    }
   ],
   "source": [
    "df.groupby('Exited').agg({'Tenure':'mean'}).sort_values(by = 'Tenure', ascending = False).round(2)"
   ]
  },
  {
   "cell_type": "markdown",
   "id": "f328475f-e957-4ad8-be49-f4bb81e00770",
   "metadata": {},
   "source": [
    "## Question 9\n",
    "<p>What is the total number of products owned by customers in each Geography</p>"
   ]
  },
  {
   "cell_type": "code",
   "execution_count": 43,
   "id": "120ce38d-fac7-4dd6-9a45-c14f03831a3e",
   "metadata": {},
   "outputs": [
    {
     "data": {
      "text/html": [
       "<div>\n",
       "<style scoped>\n",
       "    .dataframe tbody tr th:only-of-type {\n",
       "        vertical-align: middle;\n",
       "    }\n",
       "\n",
       "    .dataframe tbody tr th {\n",
       "        vertical-align: top;\n",
       "    }\n",
       "\n",
       "    .dataframe thead th {\n",
       "        text-align: right;\n",
       "    }\n",
       "</style>\n",
       "<table border=\"1\" class=\"dataframe\">\n",
       "  <thead>\n",
       "    <tr style=\"text-align: right;\">\n",
       "      <th></th>\n",
       "      <th>NumOfProducts</th>\n",
       "    </tr>\n",
       "    <tr>\n",
       "      <th>Geography</th>\n",
       "      <th></th>\n",
       "    </tr>\n",
       "  </thead>\n",
       "  <tbody>\n",
       "    <tr>\n",
       "      <th>France</th>\n",
       "      <td>7675</td>\n",
       "    </tr>\n",
       "    <tr>\n",
       "      <th>Germany</th>\n",
       "      <td>3812</td>\n",
       "    </tr>\n",
       "    <tr>\n",
       "      <th>Spain</th>\n",
       "      <td>3811</td>\n",
       "    </tr>\n",
       "  </tbody>\n",
       "</table>\n",
       "</div>"
      ],
      "text/plain": [
       "           NumOfProducts\n",
       "Geography               \n",
       "France              7675\n",
       "Germany             3812\n",
       "Spain               3811"
      ]
     },
     "execution_count": 43,
     "metadata": {},
     "output_type": "execute_result"
    }
   ],
   "source": [
    "df.groupby('Geography').agg({'NumOfProducts': 'sum'})"
   ]
  },
  {
   "cell_type": "markdown",
   "id": "459e866c-51e6-4356-a11c-f0e1b37c5ddc",
   "metadata": {},
   "source": [
    "## Question 10\n",
    "<p>Which Age Group has the highest average estimated salary</p>"
   ]
  },
  {
   "cell_type": "code",
   "execution_count": 44,
   "id": "bdf759fc-73e2-4311-a384-766d76a33425",
   "metadata": {},
   "outputs": [
    {
     "name": "stderr",
     "output_type": "stream",
     "text": [
      "C:\\Users\\HP\\AppData\\Local\\Temp\\ipykernel_3800\\381573960.py:1: FutureWarning: The default of observed=False is deprecated and will be changed to True in a future version of pandas. Pass observed=False to retain current behavior or observed=True to adopt the future default and silence this warning.\n",
      "  df.groupby('Age Group')['EstimatedSalary'].mean().sort_values(ascending = False).round(2).head(1)\n"
     ]
    },
    {
     "data": {
      "text/plain": [
       "Age Group\n",
       "91+    115000.41\n",
       "Name: EstimatedSalary, dtype: float64"
      ]
     },
     "execution_count": 44,
     "metadata": {},
     "output_type": "execute_result"
    }
   ],
   "source": [
    "df.groupby('Age Group')['EstimatedSalary'].mean().sort_values(ascending = False).round(2).head(1)"
   ]
  },
  {
   "cell_type": "markdown",
   "id": "b36bb160-6350-4336-a4a7-d531ddcd3ca4",
   "metadata": {},
   "source": [
    "## Question 11\n",
    "<p>What is the distribution of the number of products held by customers who have exited versus those who have not?</p>"
   ]
  },
  {
   "cell_type": "code",
   "execution_count": 45,
   "id": "ac338bbb-28de-438b-ba6a-fe33e5925976",
   "metadata": {},
   "outputs": [
    {
     "name": "stdout",
     "output_type": "stream",
     "text": [
      "              NumOfProducts                     \n",
      "NumOfProducts             1       2      3     4\n",
      "Exited                                          \n",
      "0                    3671.0  4242.0   46.0   0.0\n",
      "1                    1409.0   348.0  220.0  60.0\n"
     ]
    }
   ],
   "source": [
    "distribution_by_exit = df.groupby(['Exited', 'NumOfProducts']).agg({'NumOfProducts': 'count'}).unstack().fillna(0) \n",
    "# fillna can be replaced by passing paremeter 'fill_value = 0' into the unstack() -- unstack(fill_value = 'No Data')\n",
    "\n",
    "print(distribution_by_exit)"
   ]
  },
  {
   "cell_type": "code",
   "execution_count": 46,
   "id": "f5a7df5e-882c-4a19-a338-0048de7ef585",
   "metadata": {},
   "outputs": [
    {
     "data": {
      "image/png": "[encoded data removed]",
      "text/plain": [
       "<Figure size 640x480 with 1 Axes>"
      ]
     },
     "metadata": {},
     "output_type": "display_data"
    }
   ],
   "source": [
    "distribution_by_exit.plot(kind = 'bar')\n",
    "plt.title('Distribution by Exit')\n",
    "plt.ylabel('Number of Customers')\n",
    "plt.show()"
   ]
  },
  {
   "cell_type": "markdown",
   "id": "f5ee8454-f8ee-4902-ba6b-6acfdba4d1e5",
   "metadata": {},
   "source": [
    "## Question 12\n",
    "<p>What is the average balance for customers with different number of products?</p>"
   ]
  },
  {
   "cell_type": "code",
   "execution_count": 47,
   "id": "63b307aa-1dd2-42ae-85ee-0c620706ca76",
   "metadata": {},
   "outputs": [
    {
     "data": {
      "text/plain": [
       "Index(['CustomerId', 'Surname', 'CreditScore', 'Geography', 'Gender', 'Age',\n",
       "       'Tenure', 'EstimatedSalary', 'Balance', 'NumOfProducts', 'HasCrCard',\n",
       "       'IsActiveMember', 'Exited', 'Age Group'],\n",
       "      dtype='object')"
      ]
     },
     "execution_count": 47,
     "metadata": {},
     "output_type": "execute_result"
    }
   ],
   "source": [
    "df.columns"
   ]
  },
  {
   "cell_type": "code",
   "execution_count": 48,
   "id": "5d11be06-3586-4782-8983-6e0c6bfe3700",
   "metadata": {},
   "outputs": [
    {
     "data": {
      "text/html": [
       "<div>\n",
       "<style scoped>\n",
       "    .dataframe tbody tr th:only-of-type {\n",
       "        vertical-align: middle;\n",
       "    }\n",
       "\n",
       "    .dataframe tbody tr th {\n",
       "        vertical-align: top;\n",
       "    }\n",
       "\n",
       "    .dataframe thead th {\n",
       "        text-align: right;\n",
       "    }\n",
       "</style>\n",
       "<table border=\"1\" class=\"dataframe\">\n",
       "  <thead>\n",
       "    <tr style=\"text-align: right;\">\n",
       "      <th></th>\n",
       "      <th>Balance</th>\n",
       "    </tr>\n",
       "    <tr>\n",
       "      <th>NumOfProducts</th>\n",
       "      <th></th>\n",
       "    </tr>\n",
       "  </thead>\n",
       "  <tbody>\n",
       "    <tr>\n",
       "      <th>1</th>\n",
       "      <td>98561.49</td>\n",
       "    </tr>\n",
       "    <tr>\n",
       "      <th>2</th>\n",
       "      <td>51879.15</td>\n",
       "    </tr>\n",
       "    <tr>\n",
       "      <th>3</th>\n",
       "      <td>75458.33</td>\n",
       "    </tr>\n",
       "    <tr>\n",
       "      <th>4</th>\n",
       "      <td>93733.14</td>\n",
       "    </tr>\n",
       "  </tbody>\n",
       "</table>\n",
       "</div>"
      ],
      "text/plain": [
       "                Balance\n",
       "NumOfProducts          \n",
       "1              98561.49\n",
       "2              51879.15\n",
       "3              75458.33\n",
       "4              93733.14"
      ]
     },
     "execution_count": 48,
     "metadata": {},
     "output_type": "execute_result"
    }
   ],
   "source": [
    "df.groupby('NumOfProducts').agg({'Balance': 'mean'}).round(2)"
   ]
  },
  {
   "cell_type": "markdown",
   "id": "dab6b111-5a56-4f7a-bda3-0fe1e24250d9",
   "metadata": {},
   "source": [
    "## Question 13\n",
    "<p>Which Gender has a higher average balance for customers that have exited?</p>"
   ]
  },
  {
   "cell_type": "code",
   "execution_count": 49,
   "id": "bf3c55b0-e3b5-4606-ac8b-1653af37f82b",
   "metadata": {},
   "outputs": [
    {
     "name": "stdout",
     "output_type": "stream",
     "text": [
      "Male: 93736.48\n",
      "Female: 89036.64\n"
     ]
    }
   ],
   "source": [
    "avg_bal_by_gen = df[df['Exited'] == 1].groupby('Gender')['Balance'].mean().sort_values(ascending=False)\n",
    "for gen, bal in avg_bal_by_gen.items():\n",
    "    print(f\"{gen}: {bal:.2f}\")\n",
    "\n",
    "\n",
    "#can also be written as (Best answer since the question is to return the Gender)\n",
    "#avg_bal_by_gen_and_churn = df[df['Exited'] == 1].groupby('Gender')['Balance'].mean().idxmax\n",
    "#print(avg_balance_by_gen_and_churn)"
   ]
  },
  {
   "cell_type": "markdown",
   "id": "e09173d7-aa06-44fb-93ba-171aa41d29dd",
   "metadata": {},
   "source": [
    "## Question 14\n",
    "<p>What is the most common age group for customers in each geography?</p>"
   ]
  },
  {
   "cell_type": "code",
   "execution_count": 50,
   "id": "9cb21497-7a30-4c32-afd0-9f848ef64ae6",
   "metadata": {},
   "outputs": [
    {
     "name": "stdout",
     "output_type": "stream",
     "text": [
      "Geography\n",
      "France     31-50\n",
      "Germany    31-50\n",
      "Spain      31-50\n",
      "Name: Age Group, dtype: category\n",
      "Categories (5, object): ['18-30' < '31-50' < '51-70' < '71-90' < '91+']\n"
     ]
    }
   ],
   "source": [
    "# df.groupby(['Geography', 'Age Group']).size().unstack()\n",
    "\n",
    "# can as well be written as (best answer as it demands the highest Age Group for each Geography)\n",
    "commn_age_group_by_geography = df.groupby('Geography')['Age Group'].agg(lambda x: x.mode())\n",
    "print(commn_age_group_by_geography)"
   ]
  },
  {
   "cell_type": "markdown",
   "id": "83b28887-2ed3-4c00-9980-b80693150162",
   "metadata": {},
   "source": [
    "## Question 15\n",
    "<p>What is the average credit score for customers with and without credit cards</p>"
   ]
  },
  {
   "cell_type": "code",
   "execution_count": 51,
   "id": "b5a9f879-25fe-45b3-bee9-e0f6757ff54e",
   "metadata": {},
   "outputs": [
    {
     "data": {
      "text/plain": [
       "Index(['CustomerId', 'Surname', 'CreditScore', 'Geography', 'Gender', 'Age',\n",
       "       'Tenure', 'EstimatedSalary', 'Balance', 'NumOfProducts', 'HasCrCard',\n",
       "       'IsActiveMember', 'Exited', 'Age Group'],\n",
       "      dtype='object')"
      ]
     },
     "execution_count": 51,
     "metadata": {},
     "output_type": "execute_result"
    }
   ],
   "source": [
    "df.columns"
   ]
  },
  {
   "cell_type": "code",
   "execution_count": 69,
   "id": "6e9863fb-43a1-4431-8a6b-8e3b1fb4f8b0",
   "metadata": {},
   "outputs": [
    {
     "data": {
      "text/html": [
       "<div>\n",
       "<style scoped>\n",
       "    .dataframe tbody tr th:only-of-type {\n",
       "        vertical-align: middle;\n",
       "    }\n",
       "\n",
       "    .dataframe tbody tr th {\n",
       "        vertical-align: top;\n",
       "    }\n",
       "\n",
       "    .dataframe thead th {\n",
       "        text-align: right;\n",
       "    }\n",
       "</style>\n",
       "<table border=\"1\" class=\"dataframe\">\n",
       "  <thead>\n",
       "    <tr style=\"text-align: right;\">\n",
       "      <th></th>\n",
       "      <th>CreditScore</th>\n",
       "    </tr>\n",
       "    <tr>\n",
       "      <th>HasCrCard</th>\n",
       "      <th></th>\n",
       "    </tr>\n",
       "  </thead>\n",
       "  <tbody>\n",
       "    <tr>\n",
       "      <th>No</th>\n",
       "      <td>647.97</td>\n",
       "    </tr>\n",
       "    <tr>\n",
       "      <th>Yes</th>\n",
       "      <td>652.98</td>\n",
       "    </tr>\n",
       "  </tbody>\n",
       "</table>\n",
       "</div>"
      ],
      "text/plain": [
       "           CreditScore\n",
       "HasCrCard             \n",
       "No              647.97\n",
       "Yes             652.98"
      ]
     },
     "execution_count": 69,
     "metadata": {},
     "output_type": "execute_result"
    }
   ],
   "source": [
    "df.groupby('HasCrCard').agg({'CreditScore': 'mean'}).round(2)"
   ]
  },
  {
   "cell_type": "markdown",
   "id": "af7a2e4a-f459-4f88-a3ff-b3b00b01acaf",
   "metadata": {},
   "source": [
    "## Question 16\n",
    "<p>Which combination of geography and gender has the highest average estimated salary?</p>"
   ]
  },
  {
   "cell_type": "code",
   "execution_count": null,
   "id": "ccdba9ce-7428-4f70-b889-5e427983d879",
   "metadata": {},
   "outputs": [],
   "source": [
    "df.groupby(['Geography', 'Gender'])['EstimatedSalary'].mean().idxmax()\n",
    "\n",
    "#also written in this\n",
    "# df.groupby(['Geography', 'Gender']).agg({'EstimatedSalary': 'mean'}).adxmax()[0]"
   ]
  },
  {
   "cell_type": "markdown",
   "id": "9942dbd4-1db9-4012-92af-0879f8d5196e",
   "metadata": {},
   "source": [
    "## Question 17\n",
    "<p>What is the most common Tenure among customers who have exited?</p>"
   ]
  },
  {
   "cell_type": "code",
   "execution_count": null,
   "id": "e9f77530-4ede-4839-88aa-919809b4dd5f",
   "metadata": {},
   "outputs": [],
   "source": [
    "df[df['Exited'] == 1].groupby('Exited')['Tenure'].agg(lambda x: x.mode())\n",
    "\n",
    "#Also written as \n",
    "#df[df['Exited'] == 1].groupby('Tenure').size().idmax()    ---- or df[df['Exited'] == 1]['Tenure'].mode()[0]"
   ]
  },
  {
   "cell_type": "markdown",
   "id": "441bb698-ac7d-43ba-b9de-7f1568afa9bf",
   "metadata": {},
   "source": [
    "## Question 18\n",
    "<p>How does the average balance vary by credit score groups (e.g, low, medium, high)?</p>"
   ]
  },
  {
   "cell_type": "code",
   "execution_count": 53,
   "id": "c148a783-035d-41cc-b74c-5b69dcdc8f9d",
   "metadata": {},
   "outputs": [],
   "source": [
    "# First define the credit score groups\n",
    "def grp(creditScore):\n",
    "    if creditScore <= 500:\n",
    "        return \"Low\"\n",
    "    elif  500 < creditScore < 700:\n",
    "        return \"Medium\"\n",
    "    else:\n",
    "        return \"High\"\n",
    "\n",
    "\n",
    "df['Credit Group'] = df['CreditScore'].apply(lambda x : grp(x))\n",
    "\n",
    "# the other method --- .cut() can only be ujsed when its a numerical value like this"
   ]
  },
  {
   "cell_type": "code",
   "execution_count": 59,
   "id": "ca063c02-0172-486b-b05a-30253b47da25",
   "metadata": {},
   "outputs": [
    {
     "data": {
      "text/plain": [
       "Credit Group\n",
       "Medium    6205\n",
       "High      3148\n",
       "Low        643\n",
       "Name: count, dtype: int64"
      ]
     },
     "execution_count": 59,
     "metadata": {},
     "output_type": "execute_result"
    }
   ],
   "source": [
    "df['Credit Group'].value_counts()"
   ]
  },
  {
   "cell_type": "code",
   "execution_count": 58,
   "id": "348824f4-c83a-4dfb-9470-119f8cf04583",
   "metadata": {},
   "outputs": [
    {
     "data": {
      "text/plain": [
       "Credit Group\n",
       "Low       80241.27\n",
       "High      76689.81\n",
       "Medium    75986.93\n",
       "Name: Balance, dtype: float64"
      ]
     },
     "execution_count": 58,
     "metadata": {},
     "output_type": "execute_result"
    }
   ],
   "source": [
    "df.groupby('Credit Group')['Balance'].mean().round(2).sort_values(ascending = False)"
   ]
  },
  {
   "cell_type": "code",
   "execution_count": 60,
   "id": "3271db10-6eda-4ebc-a0f9-7e90597c2abc",
   "metadata": {},
   "outputs": [
    {
     "data": {
      "text/plain": [
       "<Axes: xlabel='Credit Group'>"
      ]
     },
     "execution_count": 60,
     "metadata": {},
     "output_type": "execute_result"
    },
    {
     "data": {
      "image/png": "[encoded data removed]",
      "text/plain": [
       "<Figure size 640x480 with 1 Axes>"
      ]
     },
     "metadata": {},
     "output_type": "display_data"
    }
   ],
   "source": [
    "df.groupby('Credit Group')['Balance'].mean().plot(kind = 'bar')"
   ]
  },
  {
   "cell_type": "markdown",
   "id": "26d83d16-c1ca-417f-8a4b-3c486c96300a",
   "metadata": {},
   "source": [
    "## Question 19\n",
    "<p>What is the total number of active members in each geography?</p>"
   ]
  },
  {
   "cell_type": "code",
   "execution_count": 70,
   "id": "dbe02db7-9277-43e9-bb43-d7db4626bbf8",
   "metadata": {},
   "outputs": [
    {
     "data": {
      "text/plain": [
       "Geography\n",
       "France     2590\n",
       "Germany    1247\n",
       "Spain      1311\n",
       "Name: IsActiveMember, dtype: int64"
      ]
     },
     "execution_count": 70,
     "metadata": {},
     "output_type": "execute_result"
    }
   ],
   "source": [
    "df[df['IsActiveMember'] == 'Yes'].groupby('Geography')['IsActiveMember'].count()\n",
    "\n",
    "# Also written as \n",
    "# df[df['IsActiveMember'] == 'Yes'].groupby('Geography').size()"
   ]
  },
  {
   "cell_type": "markdown",
   "id": "800b9ee4-90f9-4e7f-9055-962d8018ca7d",
   "metadata": {},
   "source": [
    "## Question 20\n",
    "<p>What is the avearage estimated salary for customers with a zero balance?</p>"
   ]
  },
  {
   "cell_type": "code",
   "execution_count": 72,
   "id": "36e624c5-9b84-4716-a7f2-089703d0529b",
   "metadata": {},
   "outputs": [
    {
     "data": {
      "text/plain": [
       "98988.77"
      ]
     },
     "execution_count": 72,
     "metadata": {},
     "output_type": "execute_result"
    }
   ],
   "source": [
    "avg_zero_bal = df[df['Balance'] == 0]['EstimatedSalary'].mean()\n",
    "round(avg_zero_bal, 2)"
   ]
  },
  {
   "cell_type": "markdown",
   "id": "5797cb1f-f3d8-445d-b33d-aef4f6285232",
   "metadata": {},
   "source": [
    "## Correlation "
   ]
  },
  {
   "cell_type": "markdown",
   "id": "25df4fdd-6715-4e5e-9062-818592750ebf",
   "metadata": {},
   "source": [
    "### Factors most correlated with customer Churn"
   ]
  },
  {
   "cell_type": "code",
   "execution_count": 78,
   "id": "92fde11f-3807-42cc-8337-cc3c47f3b100",
   "metadata": {},
   "outputs": [
    {
     "data": {
      "text/html": [
       "<div>\n",
       "<style scoped>\n",
       "    .dataframe tbody tr th:only-of-type {\n",
       "        vertical-align: middle;\n",
       "    }\n",
       "\n",
       "    .dataframe tbody tr th {\n",
       "        vertical-align: top;\n",
       "    }\n",
       "\n",
       "    .dataframe thead th {\n",
       "        text-align: right;\n",
       "    }\n",
       "</style>\n",
       "<table border=\"1\" class=\"dataframe\">\n",
       "  <thead>\n",
       "    <tr style=\"text-align: right;\">\n",
       "      <th></th>\n",
       "      <th>CustomerId</th>\n",
       "      <th>CreditScore</th>\n",
       "      <th>Age</th>\n",
       "      <th>Tenure</th>\n",
       "      <th>EstimatedSalary</th>\n",
       "      <th>Balance</th>\n",
       "      <th>NumOfProducts</th>\n",
       "      <th>Exited</th>\n",
       "    </tr>\n",
       "  </thead>\n",
       "  <tbody>\n",
       "    <tr>\n",
       "      <th>CustomerId</th>\n",
       "      <td>1.000000</td>\n",
       "      <td>0.005469</td>\n",
       "      <td>0.009552</td>\n",
       "      <td>-0.014788</td>\n",
       "      <td>0.015319</td>\n",
       "      <td>-0.012250</td>\n",
       "      <td>0.016914</td>\n",
       "      <td>-0.006285</td>\n",
       "    </tr>\n",
       "    <tr>\n",
       "      <th>CreditScore</th>\n",
       "      <td>0.005469</td>\n",
       "      <td>1.000000</td>\n",
       "      <td>-0.004003</td>\n",
       "      <td>0.000596</td>\n",
       "      <td>-0.001415</td>\n",
       "      <td>0.006198</td>\n",
       "      <td>0.012045</td>\n",
       "      <td>-0.027207</td>\n",
       "    </tr>\n",
       "    <tr>\n",
       "      <th>Age</th>\n",
       "      <td>0.009552</td>\n",
       "      <td>-0.004003</td>\n",
       "      <td>1.000000</td>\n",
       "      <td>-0.010013</td>\n",
       "      <td>-0.007229</td>\n",
       "      <td>0.028189</td>\n",
       "      <td>-0.030692</td>\n",
       "      <td>0.285343</td>\n",
       "    </tr>\n",
       "    <tr>\n",
       "      <th>Tenure</th>\n",
       "      <td>-0.014788</td>\n",
       "      <td>0.000596</td>\n",
       "      <td>-0.010013</td>\n",
       "      <td>1.000000</td>\n",
       "      <td>0.007779</td>\n",
       "      <td>-0.012321</td>\n",
       "      <td>0.013194</td>\n",
       "      <td>-0.014145</td>\n",
       "    </tr>\n",
       "    <tr>\n",
       "      <th>EstimatedSalary</th>\n",
       "      <td>0.015319</td>\n",
       "      <td>-0.001415</td>\n",
       "      <td>-0.007229</td>\n",
       "      <td>0.007779</td>\n",
       "      <td>1.000000</td>\n",
       "      <td>0.012754</td>\n",
       "      <td>0.014195</td>\n",
       "      <td>0.012091</td>\n",
       "    </tr>\n",
       "    <tr>\n",
       "      <th>Balance</th>\n",
       "      <td>-0.012250</td>\n",
       "      <td>0.006198</td>\n",
       "      <td>0.028189</td>\n",
       "      <td>-0.012321</td>\n",
       "      <td>0.012754</td>\n",
       "      <td>1.000000</td>\n",
       "      <td>-0.304220</td>\n",
       "      <td>0.118589</td>\n",
       "    </tr>\n",
       "    <tr>\n",
       "      <th>NumOfProducts</th>\n",
       "      <td>0.016914</td>\n",
       "      <td>0.012045</td>\n",
       "      <td>-0.030692</td>\n",
       "      <td>0.013194</td>\n",
       "      <td>0.014195</td>\n",
       "      <td>-0.304220</td>\n",
       "      <td>1.000000</td>\n",
       "      <td>-0.048015</td>\n",
       "    </tr>\n",
       "    <tr>\n",
       "      <th>Exited</th>\n",
       "      <td>-0.006285</td>\n",
       "      <td>-0.027207</td>\n",
       "      <td>0.285343</td>\n",
       "      <td>-0.014145</td>\n",
       "      <td>0.012091</td>\n",
       "      <td>0.118589</td>\n",
       "      <td>-0.048015</td>\n",
       "      <td>1.000000</td>\n",
       "    </tr>\n",
       "  </tbody>\n",
       "</table>\n",
       "</div>"
      ],
      "text/plain": [
       "                 CustomerId  CreditScore       Age    Tenure  EstimatedSalary  \\\n",
       "CustomerId         1.000000     0.005469  0.009552 -0.014788         0.015319   \n",
       "CreditScore        0.005469     1.000000 -0.004003  0.000596        -0.001415   \n",
       "Age                0.009552    -0.004003  1.000000 -0.010013        -0.007229   \n",
       "Tenure            -0.014788     0.000596 -0.010013  1.000000         0.007779   \n",
       "EstimatedSalary    0.015319    -0.001415 -0.007229  0.007779         1.000000   \n",
       "Balance           -0.012250     0.006198  0.028189 -0.012321         0.012754   \n",
       "NumOfProducts      0.016914     0.012045 -0.030692  0.013194         0.014195   \n",
       "Exited            -0.006285    -0.027207  0.285343 -0.014145         0.012091   \n",
       "\n",
       "                  Balance  NumOfProducts    Exited  \n",
       "CustomerId      -0.012250       0.016914 -0.006285  \n",
       "CreditScore      0.006198       0.012045 -0.027207  \n",
       "Age              0.028189      -0.030692  0.285343  \n",
       "Tenure          -0.012321       0.013194 -0.014145  \n",
       "EstimatedSalary  0.012754       0.014195  0.012091  \n",
       "Balance          1.000000      -0.304220  0.118589  \n",
       "NumOfProducts   -0.304220       1.000000 -0.048015  \n",
       "Exited           0.118589      -0.048015  1.000000  "
      ]
     },
     "execution_count": 78,
     "metadata": {},
     "output_type": "execute_result"
    }
   ],
   "source": [
    "# Select correlation of the dataset ( those whose datatype is number)\n",
    "df.select_dtypes(include = 'number').corr()"
   ]
  },
  {
   "cell_type": "code",
   "execution_count": 79,
   "id": "ef76c4ab-01e0-4109-b9a1-8a4c74d459f2",
   "metadata": {},
   "outputs": [
    {
     "data": {
      "text/plain": [
       "CustomerId        -0.006285\n",
       "CreditScore       -0.027207\n",
       "Age                0.285343\n",
       "Tenure            -0.014145\n",
       "EstimatedSalary    0.012091\n",
       "Balance            0.118589\n",
       "NumOfProducts     -0.048015\n",
       "Exited             1.000000\n",
       "Name: Exited, dtype: float64"
      ]
     },
     "execution_count": 79,
     "metadata": {},
     "output_type": "execute_result"
    }
   ],
   "source": [
    "# for only exited\n",
    "df.select_dtypes(include = 'number').corr()['Exited']"
   ]
  },
  {
   "cell_type": "code",
   "execution_count": 82,
   "id": "e9707bfb-d7de-42e1-8a68-7e59f133e25c",
   "metadata": {},
   "outputs": [],
   "source": [
    "# to get the correlation of categorical data (non numeric)\n",
    "from sklearn.preprocessing import LabelEncoder\n",
    "\n",
    "# To encode object into numerical data"
   ]
  },
  {
   "cell_type": "code",
   "execution_count": 81,
   "id": "813a7d3f-f902-4292-96bb-36e7b631f84a",
   "metadata": {},
   "outputs": [],
   "source": [
    "df_en = df.copy()"
   ]
  },
  {
   "cell_type": "code",
   "execution_count": 85,
   "id": "476b769a-17c0-40c0-9808-8f7565780a45",
   "metadata": {},
   "outputs": [],
   "source": [
    "for c in df.select_dtypes(include = 'object').columns:\n",
    "    df_en[c] = LabelEncoder().fit_transform(df[c])"
   ]
  },
  {
   "cell_type": "code",
   "execution_count": 91,
   "id": "2fb92c7c-eb8d-448d-8ee0-ce0cb3e0d87e",
   "metadata": {},
   "outputs": [],
   "source": [
    "df_en = pd.get_dummies(df)"
   ]
  },
  {
   "cell_type": "code",
   "execution_count": null,
   "id": "d3dbfe9d-66f4-4f23-b48d-e3216bb00166",
   "metadata": {},
   "outputs": [],
   "source": []
  }
 ],
 "metadata": {
  "kernelspec": {
   "display_name": "Python 3 (ipykernel)",
   "language": "python",
   "name": "python3"
  },
  "language_info": {
   "codemirror_mode": {
    "name": "ipython",
    "version": 3
   },
   "file_extension": ".py",
   "mimetype": "text/x-python",
   "name": "python",
   "nbconvert_exporter": "python",
   "pygments_lexer": "ipython3",
   "version": "3.12.7"
  }
 },
 "nbformat": 4,
 "nbformat_minor": 5
}
